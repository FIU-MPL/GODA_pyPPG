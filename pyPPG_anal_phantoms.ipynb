{
  "nbformat": 4,
  "nbformat_minor": 0,
  "metadata": {
    "colab": {
      "provenance": [],
      "toc_visible": true,
      "include_colab_link": true
    },
    "kernelspec": {
      "name": "python3",
      "display_name": "Python 3"
    },
    "language_info": {
      "name": "python"
    }
  },
  "cells": [
    {
      "cell_type": "markdown",
      "metadata": {
        "id": "view-in-github",
        "colab_type": "text"
      },
      "source": [
        "<a href=\"https://colab.research.google.com/github/FIU-MPL/GODA_pyPPG/blob/main/pyPPG_anal_phantoms.ipynb\" target=\"_parent\"><img src=\"https://colab.research.google.com/assets/colab-badge.svg\" alt=\"Open In Colab\"/></a>"
      ]
    },
    {
      "cell_type": "markdown",
      "source": [
        "# Comprehensive PPG Analysis\n",
        "\n",
        "In this tutorial we will learn how to extract biomarkers from a photoplethysmogram (PPG) signal.\n",
        "\n",
        "Our objectives are to:\n",
        "\n",
        "- Detect the standard fiducial points on PPG pulse waves\n",
        "- Calculate pulse wave biomarkers from the fiducial points\n",
        "- Saving data in different data format\n",
        "\n",
        "You can use the sample PPG data by downloading it from the following link: [Sample PPG data](https://zenodo.org/record/8369487/files/Sample_PPG_MAT_125Hz.mat?download=1).\n"
      ],
      "metadata": {
        "id": "uxse5FSBDOEP"
      }
    },
    {
      "cell_type": "markdown",
      "source": [
        "## Setup"
      ],
      "metadata": {
        "id": "YBW_rkID1l33"
      }
    },
    {
      "cell_type": "markdown",
      "source": [
        "Import Python packages:\n",
        "________________________"
      ],
      "metadata": {
        "id": "5FXeF21QDtrA"
      }
    },
    {
      "cell_type": "markdown",
      "source": [
        "- Install the _[pyPPG](https://pyppg.readthedocs.io/)_ toolbox for PPG analysis"
      ],
      "metadata": {
        "id": "6EgxjpQ_48y_"
      }
    },
    {
      "cell_type": "code",
      "source": [
        "!pip install pyPPG==1.0.41"
      ],
      "metadata": {
        "id": "MB78lJEH5OJa"
      },
      "execution_count": null,
      "outputs": []
    },
    {
      "cell_type": "markdown",
      "source": [
        "- Import required components from _pyPPG_"
      ],
      "metadata": {
        "id": "Rq0rbke25Qoi"
      }
    },
    {
      "cell_type": "code",
      "source": [
        "from pyPPG import PPG, Fiducials, Biomarkers\n",
        "from pyPPG.datahandling import load_data, plot_fiducials, save_data\n",
        "import pyPPG.preproc as PP\n",
        "import pyPPG.fiducials as FP\n",
        "import pyPPG.biomarkers as BM\n",
        "import pyPPG.ppg_sqi as SQI"
      ],
      "metadata": {
        "id": "ftLLNlOX5WLO"
      },
      "execution_count": null,
      "outputs": []
    },
    {
      "cell_type": "markdown",
      "source": [
        "- Import other packages"
      ],
      "metadata": {
        "id": "kUx0EN1n5f_2"
      }
    },
    {
      "cell_type": "code",
      "execution_count": null,
      "metadata": {
        "id": "ZM3tZKe6C1Gw"
      },
      "outputs": [],
      "source": [
        "import numpy as np\n",
        "import sys\n",
        "import json\n",
        "import pandas as pd"
      ]
    },
    {
      "cell_type": "markdown",
      "source": [
        "Setup input parameters:\n",
        "_______________________\n",
        "_The following input parameters are inputs to the `pyPPG.example` module (see the [documentation](https://pyppg.readthedocs.io/en/latest/pyPPG.html#module-pyPPG.example) for further details)._"
      ],
      "metadata": {
        "id": "6YPJR5OODz4n"
      }
    },
    {
      "cell_type": "code",
      "source": [
        "data_path = \"Sample_PPG_MAT_125Hz.mat\" # the path of the file containing the PPG signal to be analysed\n",
        "start_sig = 0 # the first sample of the signal to be analysed\n",
        "end_sig = -1 # the last sample of the signal to be analysed (here a value of '-1' indicates the last sample)\n",
        "savingfolder = 'temp_dir'\n",
        "savingformat = 'csv'"
      ],
      "metadata": {
        "id": "p7a2VwzcD6g7"
      },
      "execution_count": null,
      "outputs": []
    },
    {
      "cell_type": "markdown",
      "source": [
        "Load a raw PPG signal:\n",
        "__________________________"
      ],
      "metadata": {
        "id": "WqweTY-ZEag-"
      }
    },
    {
      "cell_type": "code",
      "source": [
        "signal = load_data(data_path=data_path, start_sig=start_sig, end_sig=end_sig, use_tk=False)\n",
        "signal.v = signal.v [0:20*signal.fs] # 20 second long signal to be analysed"
      ],
      "metadata": {
        "id": "5YrZf-viSwNg"
      },
      "execution_count": null,
      "outputs": []
    },
    {
      "cell_type": "markdown",
      "source": [
        "Plot the raw PPG signal:"
      ],
      "metadata": {
        "id": "npyM4DEDENhd"
      }
    },
    {
      "cell_type": "code",
      "source": [
        "# import plotting package\n",
        "from matplotlib import pyplot as plt\n",
        "\n",
        "# setup figure\n",
        "fig, ax = plt.subplots()\n",
        "\n",
        "# create time vector\n",
        "t = np.arange(0, len(signal.v))/signal.fs\n",
        "\n",
        "# plot raw PPG signal\n",
        "ax.plot(t, signal.v, color = 'blue')\n",
        "ax.set(xlabel = 'Time (s)', ylabel = 'raw PPG')\n",
        "\n",
        "# show plot\n",
        "plt.show()"
      ],
      "metadata": {
        "id": "ujDOtYK-D8ot"
      },
      "execution_count": null,
      "outputs": []
    },
    {
      "cell_type": "markdown",
      "source": [
        "## PPG signal processing"
      ],
      "metadata": {
        "id": "NQULBqMw9jFs"
      }
    },
    {
      "cell_type": "markdown",
      "source": [
        "Filter the PPG signal and obtain first, second and third derivatives (_vpg_, _apg_, and _jpg_ respectively)."
      ],
      "metadata": {
        "id": "AvAtQtpe9xys"
      }
    },
    {
      "cell_type": "code",
      "source": [
        "signal.filtering = True # whether or not to filter the PPG signal\n",
        "signal.fL=0.5000001 # Lower cutoff frequency (Hz)\n",
        "signal.fH=12 # Upper cutoff frequency (Hz)\n",
        "signal.order=4 # Filter order\n",
        "signal.sm_wins={'ppg':50,'vpg':10,'apg':10,'jpg':10} # smoothing windows in millisecond for the PPG, PPG', PPG\", and PPG'\"\n",
        "\n",
        "prep = PP.Preprocess(fL=signal.fL, fH=signal.fH, order=signal.order, sm_wins=signal.sm_wins)\n",
        "signal.ppg, signal.vpg, signal.apg, signal.jpg = prep.get_signals(s=signal)"
      ],
      "metadata": {
        "id": "J4sszRnV1Orr"
      },
      "execution_count": null,
      "outputs": []
    },
    {
      "cell_type": "markdown",
      "source": [
        "Plot the derived signals"
      ],
      "metadata": {
        "id": "mjBJyesbCTj7"
      }
    },
    {
      "cell_type": "code",
      "source": [
        "# setup figure\n",
        "fig, (ax1,ax2,ax3,ax4) = plt.subplots(4, 1, sharex = True, sharey = False)\n",
        "\n",
        "# create time vector\n",
        "t = np.arange(0, len(signal.ppg))/signal.fs\n",
        "\n",
        "# plot filtered PPG signal\n",
        "ax1.plot(t, signal.ppg)\n",
        "ax1.set(xlabel = '', ylabel = 'PPG')\n",
        "\n",
        "# plot first derivative\n",
        "ax2.plot(t, signal.vpg)\n",
        "ax2.set(xlabel = '', ylabel = 'PPG\\'')\n",
        "\n",
        "# plot second derivative\n",
        "ax3.plot(t, signal.apg)\n",
        "ax3.set(xlabel = '', ylabel = 'PPG\\'\\'')\n",
        "\n",
        "# plot third derivative\n",
        "ax4.plot(t, signal.jpg)\n",
        "ax4.set(xlabel = 'Time (s)', ylabel = 'PPG\\'\\'\\'')\n",
        "\n",
        "# show plot\n",
        "plt.show()"
      ],
      "metadata": {
        "id": "ytMfjk4wCWKU"
      },
      "execution_count": null,
      "outputs": []
    },
    {
      "cell_type": "markdown",
      "source": [
        "Store the derived signals in a class"
      ],
      "metadata": {
        "id": "TMzDE0ED99bY"
      }
    },
    {
      "cell_type": "code",
      "source": [
        "# Initialise the correction for fiducial points\n",
        "corr_on = ['on', 'dn', 'dp', 'v', 'w', 'f']\n",
        "correction=pd.DataFrame()\n",
        "correction.loc[0, corr_on] = True\n",
        "signal.correction=correction\n",
        "\n",
        "# Create a PPG class\n",
        "s = PPG(signal)"
      ],
      "metadata": {
        "id": "MrX8QuoV970J"
      },
      "execution_count": null,
      "outputs": []
    },
    {
      "cell_type": "markdown",
      "source": [
        "Identify fiducial points:\n",
        "__________________________"
      ],
      "metadata": {
        "id": "cmkxI5qFS1k2"
      }
    },
    {
      "cell_type": "markdown",
      "source": [
        "Initialise the fiducials package"
      ],
      "metadata": {
        "id": "lBxn5es9-Js8"
      }
    },
    {
      "cell_type": "code",
      "source": [
        "fpex = FP.FpCollection(s)"
      ],
      "metadata": {
        "id": "p7gNcJVQ-LfZ"
      },
      "execution_count": null,
      "outputs": []
    },
    {
      "cell_type": "markdown",
      "source": [
        "Extract fiducial points"
      ],
      "metadata": {
        "id": "JnSk_TY--OV8"
      }
    },
    {
      "cell_type": "code",
      "source": [
        "fiducials = fpex.get_fiducials(s)"
      ],
      "metadata": {
        "id": "8mcVXuC3-ci9"
      },
      "execution_count": null,
      "outputs": []
    },
    {
      "cell_type": "markdown",
      "source": [
        "Display the results"
      ],
      "metadata": {
        "id": "s82pMiOK-eh7"
      }
    },
    {
      "cell_type": "code",
      "source": [
        "print(\"Fiducial points:\\n\",fiducials + s.start_sig) # here the starting sample is added so that the results are relative to the start of the original signal (rather than the start of the analysed segment)"
      ],
      "metadata": {
        "id": "FidVVVgYS-H2"
      },
      "execution_count": null,
      "outputs": []
    },
    {
      "cell_type": "markdown",
      "source": [
        "Plot fiducial points\n",
        "__________________________"
      ],
      "metadata": {
        "id": "gabe_XxvTKrw"
      }
    },
    {
      "cell_type": "code",
      "source": [
        "# Create a fiducials class\n",
        "fp = Fiducials(fiducials)\n",
        "\n",
        "# Plot fiducial points\n",
        "plot_fiducials(s, fp, savingfolder, legend_fontsize=12)"
      ],
      "metadata": {
        "id": "UhCqp9m9TQsu"
      },
      "execution_count": null,
      "outputs": []
    },
    {
      "cell_type": "markdown",
      "source": [
        "Calculate PPG SQI:\n",
        "_________________________"
      ],
      "metadata": {
        "id": "zpn_neOfTkAO"
      }
    },
    {
      "cell_type": "code",
      "source": [
        "# Get PPG SQI\n",
        "ppgSQI = round(np.mean(SQI.get_ppgSQI(s.ppg, s.fs, fp.sp)) * 100, 2)\n",
        "print('Mean PPG SQI: ', ppgSQI, '%')"
      ],
      "metadata": {
        "id": "1pwpASkOTzjP"
      },
      "execution_count": null,
      "outputs": []
    },
    {
      "cell_type": "markdown",
      "source": [
        "Calculate PPG biomarkers:\n",
        "_________________________"
      ],
      "metadata": {
        "id": "X4VTREo0TUUu"
      }
    },
    {
      "cell_type": "markdown",
      "source": [
        "Initialise the biomarkers package"
      ],
      "metadata": {
        "id": "W4DpoIXj-vnZ"
      }
    },
    {
      "cell_type": "code",
      "source": [
        "bmex = BM.BmCollection(s, fp)"
      ],
      "metadata": {
        "id": "SYkvULS--xTD"
      },
      "execution_count": null,
      "outputs": []
    },
    {
      "cell_type": "markdown",
      "source": [
        "Extract biomarkers"
      ],
      "metadata": {
        "id": "bahBoots-4Zv"
      }
    },
    {
      "cell_type": "code",
      "source": [
        "bm_defs, bm_vals, bm_stats = bmex.get_biomarkers()\n",
        "tmp_keys=bm_stats.keys()\n",
        "print('Statistics of the biomarkers:')\n",
        "for i in tmp_keys: print(i,'\\n',bm_stats[i])\n",
        "\n",
        "# Create a biomarkers class\n",
        "bm = Biomarkers(bm_defs, bm_vals, bm_stats)"
      ],
      "metadata": {
        "id": "Q30MkEM6TcB2"
      },
      "execution_count": null,
      "outputs": []
    },
    {
      "cell_type": "markdown",
      "source": [
        "Save PPG data:\n",
        "______________"
      ],
      "metadata": {
        "id": "FDZGyffoT6dO"
      }
    },
    {
      "cell_type": "code",
      "source": [
        "# Save PPG struct, fiducial points, biomarkers\n",
        "fp_new = Fiducials(fp.get_fp() + s.start_sig) # here the starting sample is added so that the results are relative to the start of the original signal (rather than the start of the analysed segment)\n",
        "save_data(s, fp_new, bm, savingformat, savingfolder)"
      ],
      "metadata": {
        "id": "yULBFCXMT77m"
      },
      "execution_count": null,
      "outputs": []
    }
  ]
}